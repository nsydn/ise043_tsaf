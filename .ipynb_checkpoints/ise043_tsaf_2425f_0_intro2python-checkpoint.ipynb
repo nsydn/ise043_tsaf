{
  "cells": [
    {
      "cell_type": "markdown",
      "metadata": {
        "id": "view-in-github",
        "colab_type": "text"
      },
      "source": [
        "<a href=\"https://colab.research.google.com/github/nsydn/ise043_tsaf/blob/main/ise043_tsaf_2425f_0_intro2python.ipynb\" target=\"_parent\"><img src=\"https://colab.research.google.com/assets/colab-badge.svg\" alt=\"Open In Colab\"/></a>"
      ]
    },
    {
      "cell_type": "markdown",
      "id": "d62784da",
      "metadata": {
        "id": "d62784da"
      },
      "source": [
        "># Two possible ways to run a Jupyter Notebook\n",
        ">- **Google Colab**: https://colab.research.google.com/\n",
        ">- Download **Anaconda**: https://www.anaconda.com/download (open Anaconda Navigator)"
      ]
    },
    {
      "cell_type": "markdown",
      "id": "254855b7",
      "metadata": {
        "id": "254855b7"
      },
      "source": [
        ">#### Shortucts\n",
        "While you can always use the tool-bar above, you'll be much more efficient if you use a couple of shortcuts. The most important ones are:\n",
        "\n",
        ">* `Ctrl+Enter` runs the current cell.\n",
        ">* `Shift+Enter` runs the current cell and jumps to the next cell.\n",
        ">* `Alt+Enter` runs the cell and adds a new one below it.\n",
        "\n",
        ">* `a` adds a cell before the current cell.\n",
        ">* `b` adds a cell after the current cell.\n",
        ">* `dd` deletes a cell.\n",
        ">* `m` converts a cell to markdown (default code)."
      ]
    },
    {
      "cell_type": "markdown",
      "id": "2658f9c3",
      "metadata": {
        "id": "2658f9c3"
      },
      "source": [
        "# Introduction to Python"
      ]
    },
    {
      "cell_type": "markdown",
      "id": "8dce4ec5",
      "metadata": {
        "id": "8dce4ec5"
      },
      "source": [
        "### `print()`"
      ]
    },
    {
      "cell_type": "code",
      "execution_count": null,
      "id": "0419af04",
      "metadata": {
        "id": "0419af04",
        "outputId": "86022a16-347e-42b0-f5a1-18c3a671f4c6"
      },
      "outputs": [
        {
          "name": "stdout",
          "output_type": "stream",
          "text": [
            "Hello class! My name is Serhan!\n"
          ]
        }
      ],
      "source": [
        "print('Hello class! My name is Serhan!')"
      ]
    },
    {
      "cell_type": "code",
      "execution_count": null,
      "id": "737ffe33",
      "metadata": {
        "id": "737ffe33",
        "outputId": "824df423-f83a-4507-fcd1-9e6f83933af4"
      },
      "outputs": [
        {
          "name": "stdout",
          "output_type": "stream",
          "text": [
            "Hello class! My name is Serhan! I am your instructor.\n",
            "The course will last for 14 weeks.\n"
          ]
        }
      ],
      "source": [
        "name = 'Serhan'\n",
        "role = 'instructor'\n",
        "nweeks = 14\n",
        "print('Hello class! My name is %s! I am your %s.\\nThe course will last for %d weeks.' % (name,role,nweeks))"
      ]
    },
    {
      "cell_type": "code",
      "execution_count": null,
      "id": "e24ceda0",
      "metadata": {
        "id": "e24ceda0",
        "outputId": "a66955b4-56d3-4340-ec71-72c8b11d039c"
      },
      "outputs": [
        {
          "name": "stdout",
          "output_type": "stream",
          "text": [
            "Hello class! My name is Serhan .\n"
          ]
        }
      ],
      "source": [
        "print('Hello class! My name is', name, '.')"
      ]
    },
    {
      "cell_type": "markdown",
      "id": "7b9e0b4e",
      "metadata": {
        "id": "7b9e0b4e"
      },
      "source": [
        "### Functions `def`"
      ]
    },
    {
      "cell_type": "code",
      "execution_count": null,
      "id": "75a325a8",
      "metadata": {
        "id": "75a325a8",
        "outputId": "9fd5f5c8-09c4-4c74-d05a-a5b3301277da"
      },
      "outputs": [
        {
          "data": {
            "text/plain": [
              "19"
            ]
          },
          "execution_count": 190,
          "metadata": {},
          "output_type": "execute_result"
        }
      ],
      "source": [
        "def my_func(x):\n",
        "    result = x ** 2 + 3\n",
        "    return result\n",
        "my_func(4)"
      ]
    },
    {
      "cell_type": "code",
      "execution_count": null,
      "id": "45718499",
      "metadata": {
        "id": "45718499",
        "outputId": "41d1d9f2-2715-4562-861c-8afb9d234cd1"
      },
      "outputs": [
        {
          "data": {
            "text/plain": [
              "19"
            ]
          },
          "execution_count": 19,
          "metadata": {},
          "output_type": "execute_result"
        }
      ],
      "source": [
        "def my_func(x):\n",
        "    return x ** 2 + 3\n",
        "my_func(4)"
      ]
    },
    {
      "cell_type": "markdown",
      "id": "4a1c189d",
      "metadata": {
        "id": "4a1c189d"
      },
      "source": [
        "#### Scope of variables"
      ]
    },
    {
      "cell_type": "markdown",
      "id": "e8004118",
      "metadata": {
        "id": "e8004118"
      },
      "source": [
        "Variables declared as an input to / output from, or inside, a function (e.g., `x`,`y`,`result` below) are not accessible."
      ]
    },
    {
      "cell_type": "code",
      "execution_count": null,
      "id": "da73f37a",
      "metadata": {
        "id": "da73f37a",
        "outputId": "39da7b11-dfb5-45dd-a093-a78bc98fe6f5"
      },
      "outputs": [
        {
          "data": {
            "text/plain": [
              "18"
            ]
          },
          "execution_count": 3,
          "metadata": {},
          "output_type": "execute_result"
        }
      ],
      "source": [
        "def my_func(x):\n",
        "    y = 5\n",
        "    result = x * y + 3\n",
        "    return result\n",
        "my_func(3)"
      ]
    },
    {
      "cell_type": "markdown",
      "id": "a22b93c2",
      "metadata": {
        "id": "a22b93c2"
      },
      "source": [
        "On the contrary, variables declared outside a function (e.g., `x`,`y`,`result` below) are accessible from inside a function (**although not recommended**)"
      ]
    },
    {
      "cell_type": "code",
      "execution_count": null,
      "id": "7a40428d",
      "metadata": {
        "id": "7a40428d",
        "outputId": "b6843431-93e9-4348-b194-09158d069873"
      },
      "outputs": [
        {
          "data": {
            "text/plain": [
              "18"
            ]
          },
          "execution_count": 7,
          "metadata": {},
          "output_type": "execute_result"
        }
      ],
      "source": [
        "y = 5\n",
        "def my_func(x):\n",
        "    result = x * y + 3\n",
        "    return result\n",
        "my_func(3)"
      ]
    },
    {
      "cell_type": "markdown",
      "id": "fef9b6ab",
      "metadata": {
        "id": "fef9b6ab"
      },
      "source": [
        "#### Multiple variables"
      ]
    },
    {
      "cell_type": "code",
      "execution_count": null,
      "id": "730bb830",
      "metadata": {
        "id": "730bb830",
        "outputId": "9edb402d-f25c-47ca-829c-8334a0044148"
      },
      "outputs": [
        {
          "data": {
            "text/plain": [
              "15"
            ]
          },
          "execution_count": 174,
          "metadata": {},
          "output_type": "execute_result"
        }
      ],
      "source": [
        "def my_func(x,y):\n",
        "    return x * y + 3\n",
        "my_func(3,4)"
      ]
    },
    {
      "cell_type": "markdown",
      "id": "1e5f6479",
      "metadata": {
        "id": "1e5f6479"
      },
      "source": [
        "#### Single-line functions with `lambda`"
      ]
    },
    {
      "cell_type": "code",
      "execution_count": null,
      "id": "187be589",
      "metadata": {
        "id": "187be589",
        "outputId": "53709914-fa48-4b34-d2d9-a9e1a5cdaded"
      },
      "outputs": [
        {
          "data": {
            "text/plain": [
              "24"
            ]
          },
          "execution_count": 8,
          "metadata": {},
          "output_type": "execute_result"
        }
      ],
      "source": [
        "my_func = lambda x,y,z: x*y*z\n",
        "my_func(2,3,4)"
      ]
    },
    {
      "cell_type": "markdown",
      "id": "6f3b5ebd",
      "metadata": {
        "id": "6f3b5ebd"
      },
      "source": [
        "### `True` `False`"
      ]
    },
    {
      "cell_type": "markdown",
      "id": "77284e7f",
      "metadata": {
        "id": "77284e7f"
      },
      "source": [
        "`True` `False` are reserved keywords for binary values 1 and 0."
      ]
    },
    {
      "cell_type": "code",
      "execution_count": null,
      "id": "e0bd62df",
      "metadata": {
        "id": "e0bd62df",
        "outputId": "313449f9-3cc3-435c-e58f-ce254cb53252"
      },
      "outputs": [
        {
          "data": {
            "text/plain": [
              "False"
            ]
          },
          "execution_count": 27,
          "metadata": {},
          "output_type": "execute_result"
        }
      ],
      "source": [
        "1 == 2"
      ]
    },
    {
      "cell_type": "code",
      "execution_count": null,
      "id": "792aa264",
      "metadata": {
        "id": "792aa264",
        "outputId": "2776c68c-6cae-4f33-dedb-ef1675b8f2bc"
      },
      "outputs": [
        {
          "data": {
            "text/plain": [
              "True"
            ]
          },
          "execution_count": 28,
          "metadata": {},
          "output_type": "execute_result"
        }
      ],
      "source": [
        "2 < 5"
      ]
    },
    {
      "cell_type": "code",
      "execution_count": null,
      "id": "56b649b8",
      "metadata": {
        "id": "56b649b8",
        "outputId": "30e573d7-2afb-4086-fe02-ac6fdd10142b"
      },
      "outputs": [
        {
          "data": {
            "text/plain": [
              "11"
            ]
          },
          "execution_count": 9,
          "metadata": {},
          "output_type": "execute_result"
        }
      ],
      "source": [
        "i = 0\n",
        "while True:\n",
        "    i += 1\n",
        "    if i > 10:\n",
        "        break\n",
        "i"
      ]
    },
    {
      "cell_type": "code",
      "execution_count": null,
      "id": "5af42b8a",
      "metadata": {
        "id": "5af42b8a",
        "outputId": "bbcedcae-e87c-4224-a9d3-97b6df1ab7a7"
      },
      "outputs": [
        {
          "name": "stdout",
          "output_type": "stream",
          "text": [
            "1\n",
            "2\n",
            "3\n",
            "4\n",
            "5\n",
            "6\n",
            "7\n",
            "8\n",
            "9\n",
            "10\n",
            "11\n"
          ]
        },
        {
          "data": {
            "text/plain": [
              "11"
            ]
          },
          "execution_count": 12,
          "metadata": {},
          "output_type": "execute_result"
        }
      ],
      "source": [
        "i = 0\n",
        "while i <= 10:\n",
        "    i += 1\n",
        "    print(i)\n",
        "i"
      ]
    },
    {
      "cell_type": "markdown",
      "id": "cfeeefac",
      "metadata": {
        "id": "cfeeefac"
      },
      "source": [
        "### Logical operators `<`,`>`,`<=`,`>=`,`==`,`!=`, `in`, `not in` ..."
      ]
    },
    {
      "cell_type": "code",
      "execution_count": null,
      "id": "29810376",
      "metadata": {
        "id": "29810376",
        "outputId": "5c817baa-0232-460d-b8ff-56c76b7b13f4"
      },
      "outputs": [
        {
          "data": {
            "text/plain": [
              "False"
            ]
          },
          "execution_count": 41,
          "metadata": {},
          "output_type": "execute_result"
        }
      ],
      "source": [
        "2 not in [2,3,4]"
      ]
    },
    {
      "cell_type": "code",
      "execution_count": null,
      "id": "dcbb2dd4",
      "metadata": {
        "id": "dcbb2dd4",
        "outputId": "174a478d-8b00-41b3-acc4-d5b12115240c"
      },
      "outputs": [
        {
          "data": {
            "text/plain": [
              "True"
            ]
          },
          "execution_count": 50,
          "metadata": {},
          "output_type": "execute_result"
        }
      ],
      "source": [
        "5 < 9"
      ]
    },
    {
      "cell_type": "code",
      "execution_count": null,
      "id": "e6cfd068",
      "metadata": {
        "id": "e6cfd068",
        "outputId": "189fd2cc-8e92-46df-fd56-0a10d56cf73c"
      },
      "outputs": [
        {
          "data": {
            "text/plain": [
              "False"
            ]
          },
          "execution_count": 52,
          "metadata": {},
          "output_type": "execute_result"
        }
      ],
      "source": [
        "'b' < 'a'"
      ]
    },
    {
      "cell_type": "code",
      "execution_count": null,
      "id": "2b48e5a1",
      "metadata": {
        "id": "2b48e5a1",
        "outputId": "be1996db-11f1-4023-897e-b55529cd1c30"
      },
      "outputs": [
        {
          "data": {
            "text/plain": [
              "True"
            ]
          },
          "execution_count": 51,
          "metadata": {},
          "output_type": "execute_result"
        }
      ],
      "source": [
        "'aa' < 'aaa' #lexicographic ordering"
      ]
    },
    {
      "cell_type": "code",
      "execution_count": null,
      "id": "9476919a",
      "metadata": {
        "id": "9476919a",
        "outputId": "54c37c2c-c7b5-4e19-a25d-1aa07f3f903c"
      },
      "outputs": [
        {
          "data": {
            "text/plain": [
              "True"
            ]
          },
          "execution_count": 59,
          "metadata": {},
          "output_type": "execute_result"
        }
      ],
      "source": [
        "'aa' in 'aaa'"
      ]
    },
    {
      "cell_type": "code",
      "execution_count": null,
      "id": "79794ddc",
      "metadata": {
        "id": "79794ddc",
        "outputId": "7098ae5a-65ce-42b1-a918-799935115c7e"
      },
      "outputs": [
        {
          "data": {
            "text/plain": [
              "False"
            ]
          },
          "execution_count": 66,
          "metadata": {},
          "output_type": "execute_result"
        }
      ],
      "source": [
        "'Aa' in 'aaa'"
      ]
    },
    {
      "cell_type": "code",
      "execution_count": null,
      "id": "335f7ffc",
      "metadata": {
        "id": "335f7ffc",
        "outputId": "64eda6c5-1875-4cd1-d182-2f4fa22ff097"
      },
      "outputs": [
        {
          "data": {
            "text/plain": [
              "True"
            ]
          },
          "execution_count": 67,
          "metadata": {},
          "output_type": "execute_result"
        }
      ],
      "source": [
        "1/2 == 3/6"
      ]
    },
    {
      "cell_type": "code",
      "execution_count": null,
      "id": "d2dc6b3a",
      "metadata": {
        "id": "d2dc6b3a",
        "outputId": "058c7f75-cff7-42e4-9422-d2162a5c67d3"
      },
      "outputs": [
        {
          "data": {
            "text/plain": [
              "True"
            ]
          },
          "execution_count": 15,
          "metadata": {},
          "output_type": "execute_result"
        }
      ],
      "source": [
        "1.00000000000000000001 == 1"
      ]
    },
    {
      "cell_type": "markdown",
      "id": "ef06c067",
      "metadata": {
        "id": "ef06c067"
      },
      "source": [
        "### Numerical operators `+`,`-`,`*`,`/`,`%`,`**`,`+=`,`-=`,`*=`,`/=` ..."
      ]
    },
    {
      "cell_type": "code",
      "execution_count": null,
      "id": "7752b5bf",
      "metadata": {
        "id": "7752b5bf",
        "outputId": "061db122-245b-47c3-da31-61eae5c9dc6c"
      },
      "outputs": [
        {
          "data": {
            "text/plain": [
              "1"
            ]
          },
          "execution_count": 61,
          "metadata": {},
          "output_type": "execute_result"
        }
      ],
      "source": [
        "5 % 2"
      ]
    },
    {
      "cell_type": "code",
      "execution_count": null,
      "id": "8995eeb9",
      "metadata": {
        "id": "8995eeb9",
        "outputId": "4d8112e2-7cb6-44cd-d864-634492049092"
      },
      "outputs": [
        {
          "data": {
            "text/plain": [
              "25"
            ]
          },
          "execution_count": 62,
          "metadata": {},
          "output_type": "execute_result"
        }
      ],
      "source": [
        "5 ** 2"
      ]
    },
    {
      "cell_type": "code",
      "execution_count": null,
      "id": "a93be5e1",
      "metadata": {
        "id": "a93be5e1",
        "outputId": "554787e7-0ce1-4b01-e863-9361ba1ef940"
      },
      "outputs": [
        {
          "data": {
            "text/plain": [
              "12"
            ]
          },
          "execution_count": 16,
          "metadata": {},
          "output_type": "execute_result"
        }
      ],
      "source": [
        "x = 5\n",
        "y = 7\n",
        "y += x\n",
        "y"
      ]
    },
    {
      "cell_type": "markdown",
      "id": "f7f1261d",
      "metadata": {
        "id": "f7f1261d"
      },
      "source": [
        "### Conditional statements"
      ]
    },
    {
      "cell_type": "code",
      "execution_count": null,
      "id": "37a994b1",
      "metadata": {
        "id": "37a994b1",
        "outputId": "3033b1ee-9226-49ae-f450-7e3db94aa031"
      },
      "outputs": [
        {
          "name": "stdout",
          "output_type": "stream",
          "text": [
            "My number is greater than 100\n"
          ]
        }
      ],
      "source": [
        "my_number = 1000\n",
        "reference = 100\n",
        "if my_number > reference:\n",
        "    print('My number is greater than %d' % reference)\n",
        "elif my_number < reference:\n",
        "    print('My number is less than %d' % reference)\n",
        "else:\n",
        "    print('My number is equal to %d' % reference)"
      ]
    },
    {
      "cell_type": "markdown",
      "id": "31a16a71",
      "metadata": {
        "id": "31a16a71"
      },
      "source": [
        "Write a function that tells us whether a number is odd or even"
      ]
    },
    {
      "cell_type": "code",
      "execution_count": null,
      "id": "10ab3f16",
      "metadata": {
        "id": "10ab3f16",
        "outputId": "14a701f3-d8ba-4ee5-9724-38d7684cdb00"
      },
      "outputs": [
        {
          "name": "stdout",
          "output_type": "stream",
          "text": [
            "Odd\n"
          ]
        }
      ],
      "source": [
        "def oddeven(my_number):\n",
        "    if my_number % 2 == 1:\n",
        "        print('Odd')\n",
        "    else:\n",
        "        print('Even')\n",
        "result = oddeven(11)\n",
        "result"
      ]
    },
    {
      "cell_type": "markdown",
      "id": "dfa23ead",
      "metadata": {
        "id": "dfa23ead"
      },
      "source": [
        "⚡ ***Exercise:*** Write a function that takes two integers. If either of the numbers can be divided by the other without a remainder, print the result of the division. If none of the numbers can divide the other one, print an error message."
      ]
    },
    {
      "cell_type": "code",
      "execution_count": null,
      "id": "7205a292",
      "metadata": {
        "id": "7205a292",
        "outputId": "c052308d-19be-48a7-d41b-fb7504acb58e"
      },
      "outputs": [
        {
          "name": "stdout",
          "output_type": "stream",
          "text": [
            "5 10\n",
            "y divided by x equals 2\n"
          ]
        }
      ],
      "source": [
        "# Write your code here\n",
        "def twonumbers(x,y):\n",
        "    print(x,y)\n",
        "    if x==y:\n",
        "        print('Choose different numbers')\n",
        "    else:\n",
        "        if (x % y) == 0:\n",
        "            print('x divided by y equals %.0f' % (x/y))\n",
        "        elif (y % x) == 0:\n",
        "            print('y divided by x equals %.0f' % (y/x))\n",
        "        else:\n",
        "            print('None of them can divide the other')\n",
        "twonumbers(5,10)"
      ]
    },
    {
      "cell_type": "markdown",
      "id": "cf597237",
      "metadata": {
        "id": "cf597237"
      },
      "source": [
        "### Some Data Structures"
      ]
    },
    {
      "cell_type": "markdown",
      "id": "4c78f688",
      "metadata": {
        "id": "4c78f688"
      },
      "source": [
        "#### Lists `[]`\n",
        "A list is a collection of items."
      ]
    },
    {
      "cell_type": "code",
      "execution_count": null,
      "id": "7abd9c16",
      "metadata": {
        "id": "7abd9c16",
        "outputId": "c1d5933f-6496-41c4-fe88-0b13fffe0f1b"
      },
      "outputs": [
        {
          "data": {
            "text/plain": [
              "['ab', 'bc', 'cd']"
            ]
          },
          "execution_count": 25,
          "metadata": {},
          "output_type": "execute_result"
        }
      ],
      "source": [
        "my_list = ['a','b','c']\n",
        "my_list = [1,2,3]\n",
        "my_list = ['ab','bc','cd']\n",
        "my_list"
      ]
    },
    {
      "cell_type": "code",
      "execution_count": null,
      "id": "ac0c97f7",
      "metadata": {
        "id": "ac0c97f7",
        "outputId": "d761181d-72a5-4c55-ee36-cdd591a07622"
      },
      "outputs": [
        {
          "data": {
            "text/plain": [
              "'bc'"
            ]
          },
          "execution_count": 26,
          "metadata": {},
          "output_type": "execute_result"
        }
      ],
      "source": [
        "my_list[1]"
      ]
    },
    {
      "cell_type": "code",
      "execution_count": null,
      "id": "de7a95f4",
      "metadata": {
        "id": "de7a95f4",
        "outputId": "57588848-0aa0-4223-86c9-065cd1c20328"
      },
      "outputs": [
        {
          "data": {
            "text/plain": [
              "['ab', 'bc', 'cd']"
            ]
          },
          "execution_count": 27,
          "metadata": {},
          "output_type": "execute_result"
        }
      ],
      "source": [
        "my_list[:]"
      ]
    },
    {
      "cell_type": "code",
      "execution_count": null,
      "id": "743caeec",
      "metadata": {
        "id": "743caeec",
        "outputId": "4ba1ea71-07b7-4069-dea3-5a0b35f6102c"
      },
      "outputs": [
        {
          "data": {
            "text/plain": [
              "['bc', 'cd']"
            ]
          },
          "execution_count": 28,
          "metadata": {},
          "output_type": "execute_result"
        }
      ],
      "source": [
        "my_list[1:]"
      ]
    },
    {
      "cell_type": "code",
      "execution_count": null,
      "id": "7eb60e6d",
      "metadata": {
        "id": "7eb60e6d",
        "outputId": "9c128ef6-1857-452b-dda4-f41aa345851d"
      },
      "outputs": [
        {
          "data": {
            "text/plain": [
              "['ab', 'bc']"
            ]
          },
          "execution_count": 29,
          "metadata": {},
          "output_type": "execute_result"
        }
      ],
      "source": [
        "my_list[:2]"
      ]
    },
    {
      "cell_type": "code",
      "execution_count": null,
      "id": "4a4743d5",
      "metadata": {
        "id": "4a4743d5",
        "outputId": "fac2f672-7ebf-4114-c892-6c710b991cac"
      },
      "outputs": [
        {
          "data": {
            "text/plain": [
              "'cd'"
            ]
          },
          "execution_count": 109,
          "metadata": {},
          "output_type": "execute_result"
        }
      ],
      "source": [
        "my_list[-1]"
      ]
    },
    {
      "cell_type": "code",
      "execution_count": null,
      "id": "2c88ce7b",
      "metadata": {
        "id": "2c88ce7b",
        "outputId": "1cccf3f4-95b7-41d7-ed4f-c98e80d30bba"
      },
      "outputs": [
        {
          "data": {
            "text/plain": [
              "['ab', 'bc', 'cd', 'ab', 'bc', 'cd']"
            ]
          },
          "execution_count": 112,
          "metadata": {},
          "output_type": "execute_result"
        }
      ],
      "source": [
        "my_list*2"
      ]
    },
    {
      "cell_type": "code",
      "execution_count": null,
      "id": "73b95f3b",
      "metadata": {
        "id": "73b95f3b",
        "outputId": "f80d3163-71e2-4ef9-e48d-0573808464ad"
      },
      "outputs": [
        {
          "data": {
            "text/plain": [
              "['ab', 'bc', 'cd', 'de']"
            ]
          },
          "execution_count": 116,
          "metadata": {},
          "output_type": "execute_result"
        }
      ],
      "source": [
        "my_list.append('de')\n",
        "my_list"
      ]
    },
    {
      "cell_type": "code",
      "execution_count": null,
      "id": "183d5ea2",
      "metadata": {
        "id": "183d5ea2",
        "outputId": "0873e821-c277-42e1-b029-ca9635c1f57a"
      },
      "outputs": [
        {
          "data": {
            "text/plain": [
              "['ab', 'bc', 'cd', 'de', 'ab', 'bc', 'cd', 'de']"
            ]
          },
          "execution_count": 117,
          "metadata": {},
          "output_type": "execute_result"
        }
      ],
      "source": [
        "my_list + my_list"
      ]
    },
    {
      "cell_type": "code",
      "execution_count": null,
      "id": "6f1b2aa8",
      "metadata": {
        "id": "6f1b2aa8",
        "outputId": "f0feaf44-4d84-4351-85e0-3bd64e78c4c2"
      },
      "outputs": [
        {
          "data": {
            "text/plain": [
              "4"
            ]
          },
          "execution_count": 118,
          "metadata": {},
          "output_type": "execute_result"
        }
      ],
      "source": [
        "len(my_list)"
      ]
    },
    {
      "cell_type": "markdown",
      "id": "d22224b4",
      "metadata": {
        "id": "d22224b4"
      },
      "source": [
        "#### Arrays `np.array()`\n",
        "An array is an $n$-dimensional collection of numbers (vectors, matrices, etc.)."
      ]
    },
    {
      "cell_type": "code",
      "execution_count": null,
      "id": "c0ae871c",
      "metadata": {
        "id": "c0ae871c",
        "outputId": "a01c307b-f908-44dd-c0fb-dcbe081dfebe"
      },
      "outputs": [
        {
          "data": {
            "text/plain": [
              "array([1, 2, 3, 4])"
            ]
          },
          "execution_count": 30,
          "metadata": {},
          "output_type": "execute_result"
        }
      ],
      "source": [
        "import numpy as np\n",
        "my_list = [1,2,3,4]\n",
        "my_array = np.array(my_list)\n",
        "my_array"
      ]
    },
    {
      "cell_type": "code",
      "execution_count": null,
      "id": "e6cec5d8",
      "metadata": {
        "id": "e6cec5d8",
        "outputId": "ac97fabc-8726-48ff-a2a1-b1f71990d485"
      },
      "outputs": [
        {
          "data": {
            "text/plain": [
              "(4,)"
            ]
          },
          "execution_count": 31,
          "metadata": {},
          "output_type": "execute_result"
        }
      ],
      "source": [
        "my_array.shape #vector"
      ]
    },
    {
      "cell_type": "code",
      "execution_count": null,
      "id": "f27cc1e3",
      "metadata": {
        "id": "f27cc1e3",
        "outputId": "832b9c1c-40f5-4a51-b268-4973d8a04f3f"
      },
      "outputs": [
        {
          "data": {
            "text/plain": [
              "numpy.ndarray"
            ]
          },
          "execution_count": 153,
          "metadata": {},
          "output_type": "execute_result"
        }
      ],
      "source": [
        "type(my_array)"
      ]
    },
    {
      "cell_type": "code",
      "execution_count": null,
      "id": "9f90c948",
      "metadata": {
        "id": "9f90c948",
        "outputId": "250b6f5f-fa89-4914-ad7c-649ffd750dce"
      },
      "outputs": [
        {
          "data": {
            "text/plain": [
              "array([[1, 2],\n",
              "       [3, 4]])"
            ]
          },
          "execution_count": 32,
          "metadata": {},
          "output_type": "execute_result"
        }
      ],
      "source": [
        "my_array = my_array.reshape(2,2)\n",
        "# my_array = np.reshape(my_array,(4,))\n",
        "my_array"
      ]
    },
    {
      "cell_type": "code",
      "execution_count": null,
      "id": "f32ec742",
      "metadata": {
        "id": "f32ec742",
        "outputId": "461fadce-0413-4dbe-efc0-1b0c5d96ff79"
      },
      "outputs": [
        {
          "data": {
            "text/plain": [
              "array([[ 1,  8],\n",
              "       [27, 64]], dtype=int32)"
            ]
          },
          "execution_count": 34,
          "metadata": {},
          "output_type": "execute_result"
        }
      ],
      "source": [
        "my_array * my_array\n",
        "my_array ** 3"
      ]
    },
    {
      "cell_type": "code",
      "execution_count": null,
      "id": "64534632",
      "metadata": {
        "id": "64534632",
        "outputId": "c764e049-1b56-4f11-f75a-3d8d28b3e1b0"
      },
      "outputs": [
        {
          "data": {
            "text/plain": [
              "array([[ 5, 11],\n",
              "       [11, 25]])"
            ]
          },
          "execution_count": 38,
          "metadata": {},
          "output_type": "execute_result"
        }
      ],
      "source": [
        "np.matmul(my_array,my_array.T)"
      ]
    },
    {
      "cell_type": "markdown",
      "id": "85107cf7",
      "metadata": {
        "id": "85107cf7"
      },
      "source": [
        "### Loops"
      ]
    },
    {
      "cell_type": "markdown",
      "id": "d2b7114e",
      "metadata": {
        "id": "d2b7114e"
      },
      "source": [
        "#### `for` loops"
      ]
    },
    {
      "cell_type": "code",
      "execution_count": null,
      "id": "cfa521ee",
      "metadata": {
        "id": "cfa521ee",
        "outputId": "26525e40-257b-4df8-fe84-e9ad96ed8498"
      },
      "outputs": [
        {
          "name": "stdout",
          "output_type": "stream",
          "text": [
            "ax\n",
            "bx\n",
            "cx\n"
          ]
        }
      ],
      "source": [
        "my_list = ['a','b','c']\n",
        "\n",
        "for i in my_list:\n",
        "#     print(i)\n",
        "    print(i+'x')"
      ]
    },
    {
      "cell_type": "code",
      "execution_count": null,
      "id": "93390c84",
      "metadata": {
        "id": "93390c84",
        "outputId": "418f83d0-9892-4a99-b7dd-41a430b3aaae"
      },
      "outputs": [
        {
          "data": {
            "text/plain": [
              "6"
            ]
          },
          "execution_count": 41,
          "metadata": {},
          "output_type": "execute_result"
        }
      ],
      "source": [
        "my_func(1,2,3)"
      ]
    },
    {
      "cell_type": "code",
      "execution_count": null,
      "id": "69380a26",
      "metadata": {
        "id": "69380a26",
        "outputId": "daf0ea19-cf44-46aa-95cc-4995ba928368"
      },
      "outputs": [
        {
          "name": "stdout",
          "output_type": "stream",
          "text": [
            "1\n",
            "8\n",
            "27\n",
            "64\n"
          ]
        }
      ],
      "source": [
        "my_array = np.array([1,2,3,4])\n",
        "\n",
        "for i in my_array:\n",
        "    print(my_func(i,i,i))"
      ]
    },
    {
      "cell_type": "code",
      "execution_count": null,
      "id": "93f308a6",
      "metadata": {
        "id": "93f308a6",
        "outputId": "fd82a970-b662-4c70-8f5f-dad522ff919f"
      },
      "outputs": [
        {
          "name": "stdout",
          "output_type": "stream",
          "text": [
            "1\n",
            "8\n",
            "27\n"
          ]
        }
      ],
      "source": [
        "my_array = np.array([1,2,3,4])\n",
        "\n",
        "for i in my_array:\n",
        "    if i < 4:\n",
        "        print(i**3)"
      ]
    },
    {
      "cell_type": "markdown",
      "id": "62b33265",
      "metadata": {
        "id": "62b33265"
      },
      "source": [
        "#### `while` loops"
      ]
    },
    {
      "cell_type": "code",
      "execution_count": null,
      "id": "da361152",
      "metadata": {
        "id": "da361152",
        "outputId": "f54e0faa-7912-434e-ef33-a2799aadb793"
      },
      "outputs": [
        {
          "name": "stdout",
          "output_type": "stream",
          "text": [
            "1\n",
            "4\n",
            "9\n",
            "16\n",
            "25\n",
            "36\n",
            "49\n",
            "64\n",
            "81\n"
          ]
        }
      ],
      "source": [
        "a = 1\n",
        "\n",
        "while a < 10:\n",
        "    print(a**2)\n",
        "    a += 1"
      ]
    },
    {
      "cell_type": "code",
      "execution_count": null,
      "id": "0f862647",
      "metadata": {
        "id": "0f862647",
        "outputId": "86da1ee1-0984-4406-ad21-c0239a1c979b"
      },
      "outputs": [
        {
          "name": "stdout",
          "output_type": "stream",
          "text": [
            "1\n",
            "4\n",
            "9\n",
            "16\n",
            "25\n",
            "36\n",
            "49\n",
            "64\n",
            "81\n"
          ]
        }
      ],
      "source": [
        "for a in range(1,10):\n",
        "    print(a**2)"
      ]
    },
    {
      "cell_type": "markdown",
      "id": "d05de539",
      "metadata": {
        "id": "d05de539"
      },
      "source": [
        "⚡ ***Exercise:*** Write a `while` loop that computes the sum of odd numbers less than 100, that is, $1+3+5+...+99$"
      ]
    },
    {
      "cell_type": "code",
      "execution_count": null,
      "id": "444ab5b1",
      "metadata": {
        "id": "444ab5b1",
        "outputId": "ed7350fb-c7b3-413c-99e2-1da9819d49f5"
      },
      "outputs": [
        {
          "data": {
            "text/plain": [
              "4000"
            ]
          },
          "execution_count": 5,
          "metadata": {},
          "output_type": "execute_result"
        }
      ],
      "source": [
        "# Write your code here\n",
        "a = 1\n",
        "sum = 0\n",
        "while a<100:\n",
        "    if a % 5 != 0:\n",
        "        sum += a\n",
        "    a += 1\n",
        "sum"
      ]
    },
    {
      "cell_type": "markdown",
      "id": "b398a8fc",
      "metadata": {
        "id": "b398a8fc"
      },
      "source": [
        "## A time-series example"
      ]
    },
    {
      "cell_type": "code",
      "execution_count": null,
      "id": "0ed38a1f",
      "metadata": {
        "id": "0ed38a1f",
        "outputId": "95ac4a69-94e8-49c5-bb8f-1410eb85563e"
      },
      "outputs": [
        {
          "name": "stdout",
          "output_type": "stream",
          "text": [
            "[*********************100%***********************]  1 of 1 completed\n"
          ]
        },
        {
          "data": {
            "text/plain": [
              "Text(0, 0.5, 'Price')"
            ]
          },
          "execution_count": 14,
          "metadata": {},
          "output_type": "execute_result"
        },
        {
          "data": {
            "image/png": "[encoded data removed]",
            "text/plain": [
              "<Figure size 576x432 with 1 Axes>"
            ]
          },
          "metadata": {
            "needs_background": "light"
          },
          "output_type": "display_data"
        }
      ],
      "source": [
        "import yfinance as yf\n",
        "import matplotlib.pyplot as plt\n",
        "import numpy as np\n",
        "tesla = yf.download('TSLA','2023-01-01','2023-12-31');\n",
        "plt.figure(figsize=(8,6))\n",
        "# plt.plot(np.log(tesla['Close']).diff());\n",
        "plt.plot(tesla['Close']);\n",
        "plt.title('TESLA Close Price')\n",
        "plt.xlabel('Date')\n",
        "plt.ylabel('Price')"
      ]
    }
  ],
  "metadata": {
    "kernelspec": {
      "display_name": "Python 3 (ipykernel)",
      "language": "python",
      "name": "python3"
    },
    "language_info": {
      "codemirror_mode": {
        "name": "ipython",
        "version": 3
      },
      "file_extension": ".py",
      "mimetype": "text/x-python",
      "name": "python",
      "nbconvert_exporter": "python",
      "pygments_lexer": "ipython3",
      "version": "3.9.12"
    },
    "colab": {
      "provenance": [],
      "include_colab_link": true
    }
  },
  "nbformat": 4,
  "nbformat_minor": 5
}